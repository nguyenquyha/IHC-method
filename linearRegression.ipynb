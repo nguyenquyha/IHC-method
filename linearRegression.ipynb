{
  "nbformat": 4,
  "nbformat_minor": 0,
  "metadata": {
    "colab": {
      "name": "linearRegression.ipynb",
      "version": "0.3.2",
      "provenance": [],
      "collapsed_sections": [],
      "include_colab_link": true
    },
    "kernelspec": {
      "name": "python3",
      "display_name": "Python 3"
    }
  },
  "cells": [
    {
      "cell_type": "markdown",
      "metadata": {
        "id": "view-in-github",
        "colab_type": "text"
      },
      "source": [
        "<a href=\"https://colab.research.google.com/github/nguyenquyha/IHC-method/blob/master/linearRegression.ipynb\" target=\"_parent\"><img src=\"https://colab.research.google.com/assets/colab-badge.svg\" alt=\"Open In Colab\"/></a>"
      ]
    },
    {
      "metadata": {
        "id": "r0f68UT6q-CM",
        "colab_type": "code",
        "outputId": "462eac47-6981-4f1c-aa12-552587c71455",
        "colab": {
          "base_uri": "https://localhost:8080/",
          "height": 283
        }
      },
      "cell_type": "code",
      "source": [
        "import pandas as pd\n",
        "import matplotlib.pyplot as plt\n",
        "\n",
        "\n",
        "url = \"https://www.openintro.org/stat/data/ames.csv\"\n",
        "df = pd.read_csv(url)\n",
        "\n",
        "# only care about 2-story houses sold in 2009\n",
        "new_house = (df[\"MS.SubClass\"] == 60) & (df[\"Yr.Sold\"] == 2009)\n",
        "\n",
        "price = df['SalePrice'][new_house]/100000\n",
        "area = df['Gr.Liv.Area'][new_house]/1000\n",
        "bedroom = df['Bedroom.AbvGr'][new_house]\n",
        "\n",
        "# Part (a): plot the data\n",
        "plt.scatter(area, price)\n",
        "plt.xlabel(r\"Living area (1000 sq.ft)\")\n",
        "plt.ylabel(\"Price ($100,000)\")\n",
        "plt.show()\n"
      ],
      "execution_count": 2,
      "outputs": [
        {
          "output_type": "display_data",
          "data": {
            "image/png": "[encoded data removed]",
            "text/plain": [
              "<Figure size 432x288 with 1 Axes>"
            ]
          },
          "metadata": {
            "tags": []
          }
        }
      ]
    },
    {
      "metadata": {
        "id": "gnbyVlM7vS89",
        "colab_type": "code",
        "outputId": "73907331-ef5c-41a5-e2fb-2feda0397108",
        "colab": {
          "base_uri": "https://localhost:8080/",
          "height": 35
        }
      },
      "cell_type": "code",
      "source": [
        "# Part (b): Least squares solution\n",
        "import numpy as np\n",
        "\n",
        "X = np.vstack([np.ones(len(area)), area, bedroom]).T\n",
        "y = np.asarray(price)\n",
        "Xt = X.T # transpose matrix X\n",
        "inv_mat = np.linalg.inv(Xt.dot(X))\n",
        "theta = inv_mat.dot(Xt).dot(y)\n",
        "print(\"theta = {}\".format(theta))"
      ],
      "execution_count": 3,
      "outputs": [
        {
          "output_type": "stream",
          "text": [
            "theta = [-0.21682936  1.74713773 -0.25150618]\n"
          ],
          "name": "stdout"
        }
      ]
    },
    {
      "metadata": {
        "id": "S2RnFEdc1Ttd",
        "colab_type": "code",
        "outputId": "3ed51fad-433d-46ea-c293-e243c032a796",
        "colab": {
          "base_uri": "https://localhost:8080/",
          "height": 301
        }
      },
      "cell_type": "code",
      "source": [
        "# Part (c): Gradient descent\n",
        "\n",
        "#================================================================\n",
        "# Function to perform gradient descent for linear regression  \n",
        "#================================================================\n",
        "\n",
        "def GD_LR(X, y, theta_init, lr, iter_num):\n",
        "  \n",
        "  Xt = X.T\n",
        "  XtX = Xt.dot(X)\n",
        "  theta = theta_init\n",
        "  loss = np.zeros(iter_num)\n",
        "  \n",
        "  for iter in range(iter_num):\n",
        "     # compute squared error\n",
        "    loss[iter] = 0.5 * np.linalg.norm(X.dot(theta) - y)**2\n",
        "    \n",
        "    # compute the gradient\n",
        "    grad = XtX.dot(theta) - Xt.dot(y)\n",
        "  \n",
        "    # update theta\n",
        "    theta = theta - lr * grad\n",
        "    \n",
        "  return theta, loss\n",
        "\n",
        "#================================================================\n",
        "# MAIN \n",
        "#================================================================\n",
        "\n",
        "theta_init = np.zeros(X.shape[1]) # initialization\n",
        "lr = 0.001 # learning rate\n",
        "iter_num = 10000 # number of iterations in Gradient Descent\n",
        "\n",
        "theta, loss = GD_LR(X, y , theta_init, lr, iter_num)\n",
        "\n",
        "print(\"theta = {}\".format(theta))\n",
        "plt.plot(loss)\n",
        "plt.xlabel(\"Iteration\")\n",
        "plt.ylabel(\"Squared error\")\n",
        "plt.show()\n"
      ],
      "execution_count": 4,
      "outputs": [
        {
          "output_type": "stream",
          "text": [
            "theta = [-0.21682936  1.74713773 -0.25150618]\n"
          ],
          "name": "stdout"
        },
        {
          "output_type": "display_data",
          "data": {
            "image/png": "[encoded data removed]",
            "text/plain": [
              "<Figure size 432x288 with 1 Axes>"
            ]
          },
          "metadata": {
            "tags": []
          }
        }
      ]
    },
    {
      "metadata": {
        "id": "7CFatfhjIQzX",
        "colab_type": "code",
        "outputId": "66bc60c2-d3b6-41a4-cc26-dd8d59ea7b6e",
        "colab": {
          "base_uri": "https://localhost:8080/",
          "height": 52
        }
      },
      "cell_type": "code",
      "source": [
        "# part (c): Linear Regression using Scikitlearn library\n",
        "\n",
        "from sklearn.linear_model import LinearRegression\n",
        "\n",
        "X_orig = X[:, 1:] # we no longer need the first column\n",
        "\n",
        "# Train the model using the training sets\n",
        "reg = LinearRegression().fit(X_orig, y)\n",
        "\n",
        "# Print the results\n",
        "print(\"coefficients: {}\".format(reg.coef_))\n",
        "print(\"intercept: {:0.8f}\".format(reg.intercept_))"
      ],
      "execution_count": 0,
      "outputs": [
        {
          "output_type": "stream",
          "text": [
            "coefficients: [ 1.74713773 -0.25150618]\n",
            "intercept: -0.21682936\n"
          ],
          "name": "stdout"
        }
      ]
    }
  ]
}